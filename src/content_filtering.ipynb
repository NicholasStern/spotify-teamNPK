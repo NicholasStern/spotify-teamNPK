{
 "cells": [
  {
   "cell_type": "markdown",
   "metadata": {
    "colab_type": "text",
    "id": "FUwyZjx_YWxQ"
   },
   "source": [
    "# Content filtering using cosine similarity of tracks"
   ]
  },
  {
   "cell_type": "markdown",
   "metadata": {
    "colab_type": "text",
    "id": "FgubJ1aYYWxS"
   },
   "source": [
    "The following notebook illustrates our content filtering approach that uses track similarity (measured by cosine distance) to recommend tracks to playlists."
   ]
  },
  {
   "cell_type": "markdown",
   "metadata": {
    "colab_type": "text",
    "id": "H5Z_0oi2YWxT"
   },
   "source": [
    "Cosine similarity measures the orientation of two *n*-dimensional sample vectors irrespective to their magnitude. It is calculated by the dot product of two numeric vectors, and it is normalized by the product of the vector lengths. \n",
    "The output value ranges from 0 to 1, with 1 as the highest similarity.\n",
    "\n",
    "We compute a similarity matrix for tracks by using sklearn pairwise distance method, with cosine similairty:"
   ]
  },
  {
   "cell_type": "markdown",
   "metadata": {
    "colab_type": "text",
    "id": "HAGZoApkYWxT"
   },
   "source": [
    "<h><center>$cos(\\pmb track_1, \\pmb track_2) = \\frac {\\pmb track_1 \\cdot \\pmb track_2}{||\\pmb track_1|| \\cdot ||\\pmb track_2||}$ </h>"
   ]
  },
  {
   "cell_type": "markdown",
   "metadata": {
    "colab_type": "text",
    "id": "srwobwJnYYGv"
   },
   "source": []
  },
  {
   "cell_type": "code",
   "execution_count": 1,
   "metadata": {
    "colab": {
     "base_uri": "https://localhost:8080/",
     "height": 34
    },
    "colab_type": "code",
    "id": "Ph0SLYXhZIxP",
    "outputId": "74a3b80d-d096-40ac-a38c-c43073ab3d1c"
   },
   "outputs": [
    {
     "name": "stdout",
     "output_type": "stream",
     "text": [
      "Drive already mounted at /content/gdrive; to attempt to forcibly remount, call drive.mount(\"/content/gdrive\", force_remount=True).\n"
     ]
    }
   ],
   "source": [
    "from google.colab import drive \n",
    "drive.mount('/content/gdrive')\n"
   ]
  },
  {
   "cell_type": "code",
   "execution_count": 0,
   "metadata": {
    "colab": {},
    "colab_type": "code",
    "id": "yFdRyAk7YWxV"
   },
   "outputs": [],
   "source": [
    "import pandas as pd\n",
    "import numpy as np\n",
    "from sklearn.model_selection import train_test_split\n",
    "from sklearn.neighbors import NearestNeighbors\n",
    "from sklearn.utils import shuffle\n",
    "\n",
    "subset100 = pd.read_csv(\"gdrive/My Drive/track_meta_100subset_new.csv\")\n",
    "subset100 = shuffle(subset100)"
   ]
  },
  {
   "cell_type": "markdown",
   "metadata": {
    "colab_type": "text",
    "id": "T7nN9UGsYWxY"
   },
   "source": [
    "## 1. Data Processing\n",
    "\n",
    "### 1.1 Train-test split\n",
    "We split the data into training and test set by 80-20."
   ]
  },
  {
   "cell_type": "code",
   "execution_count": 0,
   "metadata": {
    "colab": {},
    "colab_type": "code",
    "id": "Mb1dRcKYYWxZ"
   },
   "outputs": [],
   "source": [
    "train, test = train_test_split(subset100, test_size=0.2, random_state=42, stratify = subset100['Playlistid'])\n",
    "# train, val = train_test_split(train, test_size=0.2, random_state=42, stratify = train['Playlistid'])"
   ]
  },
  {
   "cell_type": "markdown",
   "metadata": {
    "colab_type": "text",
    "id": "iIpq712BYWxc"
   },
   "source": [
    "### 1.2 Data cleaning\n",
    "We drop some non-numeric features in order to calculate the cosine similarity matrix."
   ]
  },
  {
   "cell_type": "code",
   "execution_count": 0,
   "metadata": {
    "colab": {},
    "colab_type": "code",
    "id": "5ozyCryvYWxd"
   },
   "outputs": [],
   "source": [
    "# Drop features here\n",
    "features_drop = [\"Playlistid\",\"Playlist\",\"Album\", \"Track\", \"Artist\", \"Trackid\", \"Artist_Name\", \"Track_Name\", \"Album_Name\", \"Artist_uri\", \"Track_uri\", \"Album_uri\", \"artist_genres\", \"explicit\"]\n",
    "train_cleaned, test_cleaned = train.drop(features_drop, axis =1), test.drop(features_drop, axis=1)\n",
    "train = train.reset_index(drop=True)\n",
    "train_cleaned = train_cleaned.reset_index(drop=True)"
   ]
  },
  {
   "cell_type": "code",
   "execution_count": 5,
   "metadata": {
    "colab": {
     "base_uri": "https://localhost:8080/",
     "height": 204
    },
    "colab_type": "code",
    "id": "6gfApogBYWxf",
    "outputId": "9105fb74-3074-47b5-921b-f602502a6793"
   },
   "outputs": [
    {
     "data": {
      "text/html": [
       "<div>\n",
       "<style scoped>\n",
       "    .dataframe tbody tr th:only-of-type {\n",
       "        vertical-align: middle;\n",
       "    }\n",
       "\n",
       "    .dataframe tbody tr th {\n",
       "        vertical-align: top;\n",
       "    }\n",
       "\n",
       "    .dataframe thead th {\n",
       "        text-align: right;\n",
       "    }\n",
       "</style>\n",
       "<table border=\"1\" class=\"dataframe\">\n",
       "  <thead>\n",
       "    <tr style=\"text-align: right;\">\n",
       "      <th></th>\n",
       "      <th>Track_Duration</th>\n",
       "      <th>acousticness</th>\n",
       "      <th>artist_popularity</th>\n",
       "      <th>danceability</th>\n",
       "      <th>energy</th>\n",
       "      <th>instrumentalness</th>\n",
       "      <th>key</th>\n",
       "      <th>liveness</th>\n",
       "      <th>loudness</th>\n",
       "      <th>mode</th>\n",
       "      <th>speechiness</th>\n",
       "      <th>tempo</th>\n",
       "      <th>time_signature</th>\n",
       "      <th>valence</th>\n",
       "    </tr>\n",
       "  </thead>\n",
       "  <tbody>\n",
       "    <tr>\n",
       "      <th>0</th>\n",
       "      <td>363521</td>\n",
       "      <td>0.4030</td>\n",
       "      <td>88</td>\n",
       "      <td>0.712</td>\n",
       "      <td>0.838</td>\n",
       "      <td>0.000000</td>\n",
       "      <td>7</td>\n",
       "      <td>0.8090</td>\n",
       "      <td>-2.679</td>\n",
       "      <td>1</td>\n",
       "      <td>0.3130</td>\n",
       "      <td>148.138</td>\n",
       "      <td>4</td>\n",
       "      <td>0.607</td>\n",
       "    </tr>\n",
       "    <tr>\n",
       "      <th>1</th>\n",
       "      <td>268004</td>\n",
       "      <td>0.1750</td>\n",
       "      <td>78</td>\n",
       "      <td>0.814</td>\n",
       "      <td>0.779</td>\n",
       "      <td>0.000671</td>\n",
       "      <td>11</td>\n",
       "      <td>0.0605</td>\n",
       "      <td>-3.271</td>\n",
       "      <td>1</td>\n",
       "      <td>0.2350</td>\n",
       "      <td>93.430</td>\n",
       "      <td>4</td>\n",
       "      <td>0.544</td>\n",
       "    </tr>\n",
       "    <tr>\n",
       "      <th>2</th>\n",
       "      <td>205040</td>\n",
       "      <td>0.1510</td>\n",
       "      <td>68</td>\n",
       "      <td>0.324</td>\n",
       "      <td>0.776</td>\n",
       "      <td>0.917000</td>\n",
       "      <td>0</td>\n",
       "      <td>0.0728</td>\n",
       "      <td>-6.784</td>\n",
       "      <td>1</td>\n",
       "      <td>0.0346</td>\n",
       "      <td>101.964</td>\n",
       "      <td>3</td>\n",
       "      <td>0.317</td>\n",
       "    </tr>\n",
       "    <tr>\n",
       "      <th>3</th>\n",
       "      <td>205733</td>\n",
       "      <td>0.0603</td>\n",
       "      <td>80</td>\n",
       "      <td>0.687</td>\n",
       "      <td>0.793</td>\n",
       "      <td>0.000000</td>\n",
       "      <td>2</td>\n",
       "      <td>0.5820</td>\n",
       "      <td>-4.254</td>\n",
       "      <td>1</td>\n",
       "      <td>0.1660</td>\n",
       "      <td>107.045</td>\n",
       "      <td>4</td>\n",
       "      <td>0.751</td>\n",
       "    </tr>\n",
       "    <tr>\n",
       "      <th>4</th>\n",
       "      <td>185306</td>\n",
       "      <td>0.0178</td>\n",
       "      <td>67</td>\n",
       "      <td>0.549</td>\n",
       "      <td>0.981</td>\n",
       "      <td>0.000002</td>\n",
       "      <td>11</td>\n",
       "      <td>0.4380</td>\n",
       "      <td>-3.558</td>\n",
       "      <td>0</td>\n",
       "      <td>0.0590</td>\n",
       "      <td>82.331</td>\n",
       "      <td>4</td>\n",
       "      <td>0.873</td>\n",
       "    </tr>\n",
       "  </tbody>\n",
       "</table>\n",
       "</div>"
      ],
      "text/plain": [
       "   Track_Duration  acousticness  artist_popularity  danceability  energy  \\\n",
       "0          363521        0.4030                 88         0.712   0.838   \n",
       "1          268004        0.1750                 78         0.814   0.779   \n",
       "2          205040        0.1510                 68         0.324   0.776   \n",
       "3          205733        0.0603                 80         0.687   0.793   \n",
       "4          185306        0.0178                 67         0.549   0.981   \n",
       "\n",
       "   instrumentalness  key  liveness  loudness  mode  speechiness    tempo  \\\n",
       "0          0.000000    7    0.8090    -2.679     1       0.3130  148.138   \n",
       "1          0.000671   11    0.0605    -3.271     1       0.2350   93.430   \n",
       "2          0.917000    0    0.0728    -6.784     1       0.0346  101.964   \n",
       "3          0.000000    2    0.5820    -4.254     1       0.1660  107.045   \n",
       "4          0.000002   11    0.4380    -3.558     0       0.0590   82.331   \n",
       "\n",
       "   time_signature  valence  \n",
       "0               4    0.607  \n",
       "1               4    0.544  \n",
       "2               3    0.317  \n",
       "3               4    0.751  \n",
       "4               4    0.873  "
      ]
     },
     "execution_count": 5,
     "metadata": {
      "tags": []
     },
     "output_type": "execute_result"
    }
   ],
   "source": [
    "train_cleaned.head()"
   ]
  },
  {
   "cell_type": "markdown",
   "metadata": {
    "colab_type": "text",
    "id": "GCRDPBjoYWxk"
   },
   "source": [
    "### 1.3 Create a cosine-similarity matrix"
   ]
  },
  {
   "cell_type": "code",
   "execution_count": 6,
   "metadata": {
    "colab": {
     "base_uri": "https://localhost:8080/",
     "height": 51
    },
    "colab_type": "code",
    "id": "_cSKozs1YWxk",
    "outputId": "8a4d640f-64a6-4e6a-f51e-bac384aa73d6"
   },
   "outputs": [
    {
     "name": "stderr",
     "output_type": "stream",
     "text": [
      "/usr/local/lib/python3.6/dist-packages/sklearn/preprocessing/data.py:323: DataConversionWarning: Data with input dtype int64, float64 were all converted to float64 by MinMaxScaler.\n",
      "  return self.partial_fit(X, y)\n"
     ]
    }
   ],
   "source": [
    "from sklearn.metrics.pairwise import cosine_similarity \n",
    "from sklearn.preprocessing import MinMaxScaler\n",
    "\n",
    "# Standardize the data\n",
    "scaler = MinMaxScaler()\n",
    "scaler.fit(train_cleaned)\n",
    "train_scaled = scaler.transform(train_cleaned)\n",
    "test_scaled = scaler.transform(test_cleaned)\n",
    "\n",
    "train_scaled_cos_matrix = cosine_similarity(train_scaled)"
   ]
  },
  {
   "cell_type": "markdown",
   "metadata": {
    "colab_type": "text",
    "id": "2JHw_uTtYWxm"
   },
   "source": [
    "The shape of the cosine matrix shows 1970 unique tracks (in 100 playlists) in the training set.\n"
   ]
  },
  {
   "cell_type": "code",
   "execution_count": 7,
   "metadata": {
    "colab": {
     "base_uri": "https://localhost:8080/",
     "height": 34
    },
    "colab_type": "code",
    "id": "OnmTCb7KYWxo",
    "outputId": "01b7a362-0191-43d1-8b36-f8d895a40cad"
   },
   "outputs": [
    {
     "data": {
      "text/plain": [
       "(2463, 2463)"
      ]
     },
     "execution_count": 7,
     "metadata": {
      "tags": []
     },
     "output_type": "execute_result"
    }
   ],
   "source": [
    "train_scaled_cos_matrix.shape"
   ]
  },
  {
   "cell_type": "markdown",
   "metadata": {
    "colab_type": "text",
    "id": "UAiT2okgYWxt"
   },
   "source": [
    "We wrote a function to compute prediction set per playlist.\n",
    "\n",
    "The function takes in a pre-calculated track cosine similarity matrix, training set, the target playlist id and the prediction set size (which we pre-determine it to be test set size * 15). It returns a list of tracks (prediction list) to recommend per playlist. The prediction list contains top k similar songs (based on cosine similarity) per track in the playlist."
   ]
  },
  {
   "cell_type": "code",
   "execution_count": 0,
   "metadata": {
    "colab": {},
    "colab_type": "code",
    "id": "Z7LhbAmEYWxv"
   },
   "outputs": [],
   "source": [
    "def cos_similar_songs_playlist(cos_matrix, orig_df, target_playlist_id, cand_list_size):\n",
    "    \"\"\"\n",
    "    Input:\n",
    "    cos_matrix: cosine matrix of the tracks\n",
    "    orig_df: original df with tracks as rows, but with playlistid and other features (e.g., train)\n",
    "    target_playlist_id: id of the target playlist\n",
    "    target_playlist_inx: index of playlist in the training set\n",
    "    cand_list_size: candidate list of songs to recommend size (= test-set size * 15)\n",
    "    \n",
    "    Output:\n",
    "    k_song_to_recommend: the most similar tracks per track\n",
    "    \"\"\"\n",
    "    target_track_inx = np.where(train[\"Playlistid\"] == target_playlist_id)[0] # index of tracks in training playlist of target playlist\n",
    "    candidate_cos_matrix = cos_matrix\n",
    "\n",
    "    ## For each song in the playlist, find k similar songs\n",
    "    cand_list = []\n",
    "    # cand_list_size = k*15\n",
    "    k = np.floor(cand_list_size/len(target_track_inx)) # round(cand_list_size/len(target_track_inx))\n",
    "    k_rest = cand_list_size - k*len(target_track_inx)\n",
    "    # e.g., for a candidate list size of 30, get 3 songs for each track first\n",
    "    for inx, i in enumerate(target_track_inx):\n",
    "        candidate_song_rec = candidate_cos_matrix[i, ] #ith row of matrix\n",
    "        candidate_song_rec_inx = np.argsort(candidate_song_rec)\n",
    "        unique_candidate_song_sorted = train['Track_uri'][candidate_song_rec_inx][::-1].drop_duplicates()\n",
    "        tracks_in_target_playlist = train.loc[train[\"Playlistid\"] == target_playlist_id, \"Track_uri\"]\n",
    "        song_to_recommend = np.array(unique_candidate_song_sorted.loc[~unique_candidate_song_sorted.isin(tracks_in_target_playlist)])\n",
    "\n",
    "        if (k_rest != 0 & inx <= k_rest): # 30-24 = 6; for the first 6 tracks recommend k + 1 songs\n",
    "            k_song_to_recommend = song_to_recommend[:int(k+1)]\n",
    "        else:\n",
    "            k_song_to_recommend = song_to_recommend[:int(k)]\n",
    "            \n",
    "        if inx == 0:\n",
    "            cand_list = k_song_to_recommend\n",
    "        else:\n",
    "            cand_list = np.append(cand_list, k_song_to_recommend)\n",
    "    return list(cand_list) # turn np array into list"
   ]
  },
  {
   "cell_type": "markdown",
   "metadata": {
    "colab_type": "text",
    "id": "2Oe0UKw3YWxx"
   },
   "source": [
    "## 2. Model Performance \n",
    "### 2.1 Metrics"
   ]
  },
  {
   "cell_type": "code",
   "execution_count": 0,
   "metadata": {
    "colab": {},
    "colab_type": "code",
    "id": "wA3dfO6cYWxy"
   },
   "outputs": [],
   "source": [
    "def nholdout(playlist_id, df):\n",
    "    '''Pass in a playlist id to get number of songs held out in val/test set'''\n",
    "    \n",
    "    return len(df[df.Playlistid == playlist_id].Track_uri)"
   ]
  },
  {
   "cell_type": "code",
   "execution_count": 0,
   "metadata": {
    "colab": {},
    "colab_type": "code",
    "id": "41u-gpEPYWx0"
   },
   "outputs": [],
   "source": [
    "def r_precision(prediction, val_set):\n",
    "# prediction should be a list of predictions\n",
    "# val_set should be pandas Series of ground truths\n",
    "    score = np.sum(val_set.isin(prediction))/val_set.shape[0]\n",
    "    return score"
   ]
  },
  {
   "cell_type": "code",
   "execution_count": 0,
   "metadata": {
    "colab": {},
    "colab_type": "code",
    "id": "JHKZ5a0cYWx5"
   },
   "outputs": [],
   "source": [
    "### NDCG Code Source: https://gist.github.com/bwhite/3726239\n",
    "def dcg_at_k(r, k, method=0):\n",
    "    r = np.asfarray(r)[:k]\n",
    "    if r.size:\n",
    "        if method == 0:\n",
    "            return r[0] + np.sum(r[1:] / np.log2(np.arange(2, r.size + 1)))\n",
    "        elif method == 1:\n",
    "            return np.sum(r / np.log2(np.arange(2, r.size + 2)))\n",
    "        else:\n",
    "            raise ValueError('method must be 0 or 1.')\n",
    "    return 0.\n",
    "\n",
    "\n",
    "def ndcg_at_k(r, k, method=0):\n",
    "    dcg_max = dcg_at_k(sorted(r, reverse=True), k, method)\n",
    "    if not dcg_max:\n",
    "        return 0.\n",
    "    return dcg_at_k(r, k, method) / dcg_max"
   ]
  },
  {
   "cell_type": "markdown",
   "metadata": {
    "colab_type": "text",
    "id": "iEMFu7kCYWx8"
   },
   "source": [
    "### 2.2 Model Test-Set Performance on 100 playlists"
   ]
  },
  {
   "cell_type": "code",
   "execution_count": 0,
   "metadata": {
    "colab": {},
    "colab_type": "code",
    "id": "4i2THw6hYWx8",
    "scrolled": true
   },
   "outputs": [],
   "source": [
    "unique_playlistid = train['Playlistid'].drop_duplicates()"
   ]
  },
  {
   "cell_type": "code",
   "execution_count": 0,
   "metadata": {
    "colab": {},
    "colab_type": "code",
    "id": "NpM3h6Y6YWx-"
   },
   "outputs": [],
   "source": [
    "rps = []\n",
    "ndcgs = []\n",
    "for pid in unique_playlistid: # loop through each playlist\n",
    "#     print(pid)\n",
    "    ps = cos_similar_songs_playlist(train_scaled_cos_matrix, train, pid, nholdout(pid, test)*15)# predictions\n",
    "    vs = test[test.Playlistid == pid].Track_uri # ground truth\n",
    "    \n",
    "#     print(r_precision(ps, vs))\n",
    "    rps.append(r_precision(ps, vs)) # append individual r-precision score\n",
    "    \n",
    "    # NDCG\n",
    "    r = np.zeros(len(ps))\n",
    "    for i, p in enumerate(ps):\n",
    "        if np.any(vs.isin([p])):\n",
    "            r[i] = 1\n",
    "    ndcgs.append(ndcg_at_k(r, len(r)))"
   ]
  },
  {
   "cell_type": "code",
   "execution_count": 14,
   "metadata": {
    "colab": {
     "base_uri": "https://localhost:8080/",
     "height": 68
    },
    "colab_type": "code",
    "id": "q3rwBVKVYWyA",
    "outputId": "b6ce2018-21aa-4e6e-974b-507b31432a87"
   },
   "outputs": [
    {
     "name": "stdout",
     "output_type": "stream",
     "text": [
      "Avg. R-Precision:  0.04585610327638191\n",
      "Avg. NDCG:  0.051839478084263604\n",
      "Total Sum:  0.04884779068032276\n"
     ]
    }
   ],
   "source": [
    "avg_rp = np.mean(rps)\n",
    "avg_ndcg = np.mean(ndcgs)\n",
    "print('Avg. R-Precision: ', avg_rp)\n",
    "print('Avg. NDCG: ', avg_ndcg)\n",
    "print('Total Sum: ', np.mean([avg_rp, avg_ndcg]))"
   ]
  },
  {
   "cell_type": "markdown",
   "metadata": {
    "colab_type": "text",
    "id": "vxkVjYGGYWyG"
   },
   "source": [
    "### 2.3 Model Performance on 1000 playlists"
   ]
  },
  {
   "cell_type": "code",
   "execution_count": 0,
   "metadata": {
    "colab": {},
    "colab_type": "code",
    "id": "Jb4M4cRPYWyH"
   },
   "outputs": [],
   "source": [
    "subset1k_seed = pd.read_csv(\"gdrive/My Drive/track_meta_milestone3.csv\", index_col=\"Unnamed: 0\")\n",
    "np.random.seed(123)"
   ]
  },
  {
   "cell_type": "code",
   "execution_count": 0,
   "metadata": {
    "colab": {},
    "colab_type": "code",
    "id": "7HvP5HGhYWyL"
   },
   "outputs": [],
   "source": [
    "subset1k_id = np.random.choice(subset1k_seed['Playlistid'].unique(), size = 1000, replace = False)\n",
    "subset1k = subset1k_seed[subset1k_seed['Playlistid'].isin(subset1k_id)]"
   ]
  },
  {
   "cell_type": "markdown",
   "metadata": {
    "colab_type": "text",
    "id": "-k7O7ox-YWyO"
   },
   "source": [
    "#### 2.3.1 Data Processing on 1k playlists"
   ]
  },
  {
   "cell_type": "code",
   "execution_count": 17,
   "metadata": {
    "colab": {
     "base_uri": "https://localhost:8080/",
     "height": 51
    },
    "colab_type": "code",
    "id": "eaJEeCSbYWyP",
    "outputId": "c7f46e4d-a70b-402e-e679-db241be0f8d8"
   },
   "outputs": [
    {
     "name": "stderr",
     "output_type": "stream",
     "text": [
      "/usr/local/lib/python3.6/dist-packages/sklearn/preprocessing/data.py:323: DataConversionWarning: Data with input dtype int64, float64 were all converted to float64 by MinMaxScaler.\n",
      "  return self.partial_fit(X, y)\n"
     ]
    }
   ],
   "source": [
    "train, test = train_test_split(subset1k, test_size=0.2, random_state=42, stratify = subset1k['Playlistid'])\n",
    "# Drop features here\n",
    "features_drop = [\"Playlistid\",\"Playlist\",\"Album\", \"Track\", \"Artist\", \"Trackid\", \"Artist_Name\", \"Track_Name\", \"Album_Name\", \"Artist_uri\", \"Track_uri\", \"Album_uri\", \"artist_genres\", \"explicit\"]\n",
    "train_cleaned, test_cleaned = train.drop(features_drop, axis =1), test.drop(features_drop, axis=1)\n",
    "train = train.reset_index(drop=True)\n",
    "train_cleaned = train_cleaned.reset_index(drop=True)\n",
    "\n",
    "# Standardize the data\n",
    "scaler = MinMaxScaler()\n",
    "scaler.fit(train_cleaned)\n",
    "train_scaled = scaler.transform(train_cleaned)\n",
    "test_scaled = scaler.transform(test_cleaned)\n",
    "\n",
    "train_scaled_cos_matrix = cosine_similarity(train_scaled)"
   ]
  },
  {
   "cell_type": "code",
   "execution_count": 19,
   "metadata": {
    "colab": {
     "base_uri": "https://localhost:8080/",
     "height": 34
    },
    "colab_type": "code",
    "id": "4UqPaySFYWyR",
    "outputId": "8aaf3591-7a0e-480a-ed5f-bbea20de625d"
   },
   "outputs": [
    {
     "data": {
      "text/plain": [
       "(34825, 28)"
      ]
     },
     "execution_count": 19,
     "metadata": {
      "tags": []
     },
     "output_type": "execute_result"
    }
   ],
   "source": [
    "subset1k.shape"
   ]
  },
  {
   "cell_type": "code",
   "execution_count": 0,
   "metadata": {
    "colab": {},
    "colab_type": "code",
    "id": "UeJ-5rYKYWyU"
   },
   "outputs": [],
   "source": [
    "unique_1000playlistid = train['Playlistid'].drop_duplicates()"
   ]
  },
  {
   "cell_type": "code",
   "execution_count": 0,
   "metadata": {
    "colab": {},
    "colab_type": "code",
    "id": "5WTpnmuNYWyY"
   },
   "outputs": [],
   "source": [
    "rps = []\n",
    "ndcgs = []\n",
    "for pid in unique_1000playlistid: # loop through each playlist\n",
    "#     print(pid)\n",
    "    ps = cos_similar_songs_playlist(train_scaled_cos_matrix, train, pid, nholdout(pid, test)*15)# predictions\n",
    "    vs = test[test.Playlistid == pid].Track_uri # ground truth\n",
    "    \n",
    "#     print(r_precision(ps, vs))\n",
    "    rps.append(r_precision(ps, vs)) # append individual r-precision score\n",
    "    \n",
    "    # NDCG\n",
    "    r = np.zeros(len(ps))\n",
    "    for i, p in enumerate(ps):\n",
    "        if np.any(vs.isin([p])):\n",
    "            r[i] = 1\n",
    "    ndcgs.append(ndcg_at_k(r, len(r)))"
   ]
  },
  {
   "cell_type": "code",
   "execution_count": 22,
   "metadata": {
    "colab": {
     "base_uri": "https://localhost:8080/",
     "height": 68
    },
    "colab_type": "code",
    "id": "4qqrbnZNYWya",
    "outputId": "938929fe-bb0a-47db-8f34-c9d3c5fe4e4f"
   },
   "outputs": [
    {
     "name": "stdout",
     "output_type": "stream",
     "text": [
      "Avg. R-Precision:  0.03337335854232656\n",
      "Avg. NDCG:  0.042258525693232844\n",
      "Total Sum:  0.0378159421177797\n"
     ]
    }
   ],
   "source": [
    "avg_rp = np.mean(rps)\n",
    "avg_ndcg = np.mean(ndcgs)\n",
    "print('Avg. R-Precision: ', avg_rp)\n",
    "print('Avg. NDCG: ', avg_ndcg)\n",
    "print('Total Sum: ', np.mean([avg_rp, avg_ndcg]))"
   ]
  },
  {
   "cell_type": "code",
   "execution_count": 0,
   "metadata": {
    "colab": {},
    "colab_type": "code",
    "id": "uIJgj4QNYWye"
   },
   "outputs": [],
   "source": []
  }
 ],
 "metadata": {
  "accelerator": "GPU",
  "colab": {
   "collapsed_sections": [],
   "name": "100_playlist_content_filtering_colab.ipynb",
   "provenance": [],
   "version": "0.3.2"
  },
  "kernelspec": {
   "display_name": "Python 3",
   "language": "python",
   "name": "python3"
  },
  "language_info": {
   "codemirror_mode": {
    "name": "ipython",
    "version": 3
   },
   "file_extension": ".py",
   "mimetype": "text/x-python",
   "name": "python",
   "nbconvert_exporter": "python",
   "pygments_lexer": "ipython3",
   "version": "3.6.6"
  }
 },
 "nbformat": 4,
 "nbformat_minor": 1
}
