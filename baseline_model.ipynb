{
 "cells": [
  {
   "cell_type": "code",
   "execution_count": 1,
   "metadata": {},
   "outputs": [],
   "source": [
    "import pandas as pd\n",
    "import numpy as np\n",
    "from sklearn.model_selection import train_test_split\n",
    "from sklearn.neighbors import NearestNeighbors\n",
    "from scipy.sparse import csr_matrix\n",
    "\n",
    "subset100 = pd.read_csv(\"../raw_data/track_meta_100subset_new.csv\")"
   ]
  },
  {
   "cell_type": "markdown",
   "metadata": {},
   "source": [
    "### Train-val-test split"
   ]
  },
  {
   "cell_type": "code",
   "execution_count": 5,
   "metadata": {},
   "outputs": [],
   "source": [
    "# Train-val-test split (20%)\n",
    "train, test = train_test_split(subset100, test_size=0.2, random_state=42, stratify = subset100['Playlistid'])\n",
    "train, val = train_test_split(train, test_size=0.2, random_state=42, stratify = train['Playlistid'])"
   ]
  },
  {
   "cell_type": "code",
   "execution_count": 6,
   "metadata": {
    "scrolled": true
   },
   "outputs": [
    {
     "data": {
      "text/html": [
       "<div>\n",
       "<style scoped>\n",
       "    .dataframe tbody tr th:only-of-type {\n",
       "        vertical-align: middle;\n",
       "    }\n",
       "\n",
       "    .dataframe tbody tr th {\n",
       "        vertical-align: top;\n",
       "    }\n",
       "\n",
       "    .dataframe thead th {\n",
       "        text-align: right;\n",
       "    }\n",
       "</style>\n",
       "<table border=\"1\" class=\"dataframe\">\n",
       "  <thead>\n",
       "    <tr style=\"text-align: right;\">\n",
       "      <th></th>\n",
       "      <th>Playlistid</th>\n",
       "      <th>Trackid</th>\n",
       "      <th>Artist_Name</th>\n",
       "      <th>Track_Name</th>\n",
       "      <th>Album_Name</th>\n",
       "      <th>Track_Duration</th>\n",
       "      <th>Artist_uri</th>\n",
       "      <th>Track_uri</th>\n",
       "      <th>Album_uri</th>\n",
       "      <th>acousticness</th>\n",
       "      <th>...</th>\n",
       "      <th>loudness</th>\n",
       "      <th>mode</th>\n",
       "      <th>speechiness</th>\n",
       "      <th>tempo</th>\n",
       "      <th>time_signature</th>\n",
       "      <th>valence</th>\n",
       "      <th>Playlist</th>\n",
       "      <th>Album</th>\n",
       "      <th>Track</th>\n",
       "      <th>Artist</th>\n",
       "    </tr>\n",
       "  </thead>\n",
       "  <tbody>\n",
       "    <tr>\n",
       "      <th>557</th>\n",
       "      <td>38828</td>\n",
       "      <td>35</td>\n",
       "      <td>Bastille</td>\n",
       "      <td>Pompeii</td>\n",
       "      <td>Bad Blood</td>\n",
       "      <td>214147</td>\n",
       "      <td>spotify:artist:7EQ0qTo7fWT7DPxmxtSYEc</td>\n",
       "      <td>spotify:track:3gbBpTdY8lnQwqxNCcf795</td>\n",
       "      <td>spotify:album:64fQ94AVziavTPdnkCS6Nj</td>\n",
       "      <td>0.0755</td>\n",
       "      <td>...</td>\n",
       "      <td>-6.383</td>\n",
       "      <td>1</td>\n",
       "      <td>0.0407</td>\n",
       "      <td>127.435</td>\n",
       "      <td>4</td>\n",
       "      <td>0.571</td>\n",
       "      <td>tb</td>\n",
       "      <td>55</td>\n",
       "      <td>63</td>\n",
       "      <td>44</td>\n",
       "    </tr>\n",
       "    <tr>\n",
       "      <th>556</th>\n",
       "      <td>38828</td>\n",
       "      <td>34</td>\n",
       "      <td>Britney Spears</td>\n",
       "      <td>Womanizer</td>\n",
       "      <td>Circus (Deluxe Version)</td>\n",
       "      <td>224400</td>\n",
       "      <td>spotify:artist:26dSoYclwsYLMAKD3tpOr4</td>\n",
       "      <td>spotify:track:4fixebDZAVToLbUCuEloa2</td>\n",
       "      <td>spotify:album:2tve5DGwub1TtbX1khPX5j</td>\n",
       "      <td>0.0730</td>\n",
       "      <td>...</td>\n",
       "      <td>-5.226</td>\n",
       "      <td>1</td>\n",
       "      <td>0.0622</td>\n",
       "      <td>139.000</td>\n",
       "      <td>4</td>\n",
       "      <td>0.235</td>\n",
       "      <td>tb</td>\n",
       "      <td>55</td>\n",
       "      <td>63</td>\n",
       "      <td>44</td>\n",
       "    </tr>\n",
       "    <tr>\n",
       "      <th>2414</th>\n",
       "      <td>229646</td>\n",
       "      <td>7</td>\n",
       "      <td>Soft Cell</td>\n",
       "      <td>Tainted Love</td>\n",
       "      <td>Non-Stop Erotic Cabaret</td>\n",
       "      <td>153762</td>\n",
       "      <td>spotify:artist:6aq8T2RcspxVOGgMrTzjWc</td>\n",
       "      <td>spotify:track:0cGG2EouYCEEC3xfa0tDFV</td>\n",
       "      <td>spotify:album:3KFWViJ1wIHAdOVLFTVzjD</td>\n",
       "      <td>0.4620</td>\n",
       "      <td>...</td>\n",
       "      <td>-8.284</td>\n",
       "      <td>0</td>\n",
       "      <td>0.0378</td>\n",
       "      <td>144.435</td>\n",
       "      <td>4</td>\n",
       "      <td>0.623</td>\n",
       "      <td>Throwback</td>\n",
       "      <td>121</td>\n",
       "      <td>135</td>\n",
       "      <td>91</td>\n",
       "    </tr>\n",
       "    <tr>\n",
       "      <th>1771</th>\n",
       "      <td>186672</td>\n",
       "      <td>28</td>\n",
       "      <td>Imagine Dragons</td>\n",
       "      <td>Radioactive</td>\n",
       "      <td>Night Visions</td>\n",
       "      <td>186813</td>\n",
       "      <td>spotify:artist:53XhwfbYqKCa1cC15pYq2q</td>\n",
       "      <td>spotify:track:6Ep6BzIOB9tz3P4sWqiiAB</td>\n",
       "      <td>spotify:album:1vAEF8F0HoRFGiYOEeJXHW</td>\n",
       "      <td>0.1190</td>\n",
       "      <td>...</td>\n",
       "      <td>-3.698</td>\n",
       "      <td>1</td>\n",
       "      <td>0.0590</td>\n",
       "      <td>136.249</td>\n",
       "      <td>4</td>\n",
       "      <td>0.210</td>\n",
       "      <td>campfire</td>\n",
       "      <td>30</td>\n",
       "      <td>34</td>\n",
       "      <td>29</td>\n",
       "    </tr>\n",
       "    <tr>\n",
       "      <th>516</th>\n",
       "      <td>37634</td>\n",
       "      <td>17</td>\n",
       "      <td>LANY</td>\n",
       "      <td>WHERE THE HELL ARE MY FRIENDS</td>\n",
       "      <td>WHERE THE HELL ARE MY FRIENDS</td>\n",
       "      <td>216180</td>\n",
       "      <td>spotify:artist:49tQo2QULno7gxHutgccqF</td>\n",
       "      <td>spotify:track:4TA2nSix6i8K2VV9wt6rUn</td>\n",
       "      <td>spotify:album:34ySll9UQXpSngEI0NJbFO</td>\n",
       "      <td>0.0652</td>\n",
       "      <td>...</td>\n",
       "      <td>-3.811</td>\n",
       "      <td>1</td>\n",
       "      <td>0.0344</td>\n",
       "      <td>127.994</td>\n",
       "      <td>4</td>\n",
       "      <td>0.472</td>\n",
       "      <td>not sure</td>\n",
       "      <td>16</td>\n",
       "      <td>23</td>\n",
       "      <td>13</td>\n",
       "    </tr>\n",
       "  </tbody>\n",
       "</table>\n",
       "<p>5 rows × 28 columns</p>\n",
       "</div>"
      ],
      "text/plain": [
       "      Playlistid  Trackid      Artist_Name                     Track_Name  \\\n",
       "557        38828       35         Bastille                        Pompeii   \n",
       "556        38828       34   Britney Spears                      Womanizer   \n",
       "2414      229646        7        Soft Cell                   Tainted Love   \n",
       "1771      186672       28  Imagine Dragons                    Radioactive   \n",
       "516        37634       17             LANY  WHERE THE HELL ARE MY FRIENDS   \n",
       "\n",
       "                         Album_Name  Track_Duration  \\\n",
       "557                       Bad Blood          214147   \n",
       "556         Circus (Deluxe Version)          224400   \n",
       "2414        Non-Stop Erotic Cabaret          153762   \n",
       "1771                  Night Visions          186813   \n",
       "516   WHERE THE HELL ARE MY FRIENDS          216180   \n",
       "\n",
       "                                 Artist_uri  \\\n",
       "557   spotify:artist:7EQ0qTo7fWT7DPxmxtSYEc   \n",
       "556   spotify:artist:26dSoYclwsYLMAKD3tpOr4   \n",
       "2414  spotify:artist:6aq8T2RcspxVOGgMrTzjWc   \n",
       "1771  spotify:artist:53XhwfbYqKCa1cC15pYq2q   \n",
       "516   spotify:artist:49tQo2QULno7gxHutgccqF   \n",
       "\n",
       "                                 Track_uri  \\\n",
       "557   spotify:track:3gbBpTdY8lnQwqxNCcf795   \n",
       "556   spotify:track:4fixebDZAVToLbUCuEloa2   \n",
       "2414  spotify:track:0cGG2EouYCEEC3xfa0tDFV   \n",
       "1771  spotify:track:6Ep6BzIOB9tz3P4sWqiiAB   \n",
       "516   spotify:track:4TA2nSix6i8K2VV9wt6rUn   \n",
       "\n",
       "                                 Album_uri  acousticness   ...   loudness  \\\n",
       "557   spotify:album:64fQ94AVziavTPdnkCS6Nj        0.0755   ...     -6.383   \n",
       "556   spotify:album:2tve5DGwub1TtbX1khPX5j        0.0730   ...     -5.226   \n",
       "2414  spotify:album:3KFWViJ1wIHAdOVLFTVzjD        0.4620   ...     -8.284   \n",
       "1771  spotify:album:1vAEF8F0HoRFGiYOEeJXHW        0.1190   ...     -3.698   \n",
       "516   spotify:album:34ySll9UQXpSngEI0NJbFO        0.0652   ...     -3.811   \n",
       "\n",
       "      mode  speechiness    tempo  time_signature  valence   Playlist  Album  \\\n",
       "557      1       0.0407  127.435               4    0.571         tb     55   \n",
       "556      1       0.0622  139.000               4    0.235         tb     55   \n",
       "2414     0       0.0378  144.435               4    0.623  Throwback    121   \n",
       "1771     1       0.0590  136.249               4    0.210   campfire     30   \n",
       "516      1       0.0344  127.994               4    0.472   not sure     16   \n",
       "\n",
       "      Track  Artist  \n",
       "557      63      44  \n",
       "556      63      44  \n",
       "2414    135      91  \n",
       "1771     34      29  \n",
       "516      23      13  \n",
       "\n",
       "[5 rows x 28 columns]"
      ]
     },
     "execution_count": 6,
     "metadata": {},
     "output_type": "execute_result"
    }
   ],
   "source": [
    "test.head()"
   ]
  },
  {
   "cell_type": "markdown",
   "metadata": {},
   "source": [
    "### kNN Collaborative Filtering"
   ]
  },
  {
   "cell_type": "code",
   "execution_count": 7,
   "metadata": {},
   "outputs": [],
   "source": [
    "# Create Binary Sparse Matrix\n",
    "co_mat = pd.crosstab(train.Playlistid, train.Track_uri)\n",
    "co_mat = co_mat.clip(upper=1)\n",
    "assert np.max(co_mat.describe().loc['max']) == 1\n",
    "\n",
    "co_mat_sparse = csr_matrix(co_mat)"
   ]
  },
  {
   "cell_type": "code",
   "execution_count": 8,
   "metadata": {},
   "outputs": [
    {
     "data": {
      "text/plain": [
       "NearestNeighbors(algorithm='brute', leaf_size=30, metric='cosine',\n",
       "         metric_params=None, n_jobs=None, n_neighbors=5, p=2, radius=1.0)"
      ]
     },
     "execution_count": 8,
     "metadata": {},
     "output_type": "execute_result"
    }
   ],
   "source": [
    "# Train kNN model\n",
    "col_filter = NearestNeighbors(metric='cosine', algorithm='brute')\n",
    "col_filter.fit(co_mat_sparse)"
   ]
  },
  {
   "cell_type": "markdown",
   "metadata": {},
   "source": [
    "## Making Predictions"
   ]
  },
  {
   "cell_type": "code",
   "execution_count": 9,
   "metadata": {},
   "outputs": [],
   "source": [
    "def nholdout(playlist_id, df):\n",
    "    '''Pass in a playlist id to get number of songs held out in val/test set'''\n",
    "    \n",
    "    return len(df[df.Playlistid == playlist_id].Track_uri)\n",
    "\n",
    "def kpredict(knnmodel, playlist_id, df):\n",
    "    '''for a playlist id, generate list of 15*k predictions where k is num holdouts''' \n",
    "    \n",
    "    k = nholdout(playlist_id, df)*15 # number of holdouts\n",
    "    ref_songs = co_mat.columns.values[co_mat.loc[playlist_id] == 1] # songs already in playlist\n",
    "    dist, ind = knnmodel.kneighbors(np.array(co_mat.loc[playlist_id]).reshape(1, -1), n_neighbors = 99)\n",
    "    rec_ind = co_mat.index[ind[0]] # recommended playlists\n",
    "    \n",
    "    n_pred = 0\n",
    "    pred = []\n",
    "    for i in rec_ind:\n",
    "        new_songs = co_mat.columns.values[co_mat.loc[i] == 1] # potential recommendations\n",
    "        for song in new_songs:\n",
    "            if song not in ref_songs: # only getting songs not already in target playlist\n",
    "                pred.append(song)\n",
    "                n_pred += 1\n",
    "                if n_pred == k:\n",
    "                    break\n",
    "        if n_pred == k:\n",
    "            break\n",
    "    \n",
    "    return pred"
   ]
  },
  {
   "cell_type": "code",
   "execution_count": 14,
   "metadata": {
    "scrolled": true
   },
   "outputs": [],
   "source": [
    "### Prediction Example\n",
    "pi = 430 # target playlist index\n",
    "kpreds = kpredict(col_filter, pi, val) # list of predictions"
   ]
  },
  {
   "cell_type": "code",
   "execution_count": 23,
   "metadata": {},
   "outputs": [],
   "source": [
    "val_set = val[val.Playlistid == pi]\n",
    "val_set = val_set['Track_uri'] # ground truth"
   ]
  },
  {
   "cell_type": "markdown",
   "metadata": {},
   "source": [
    "## Metrics"
   ]
  },
  {
   "cell_type": "code",
   "execution_count": 24,
   "metadata": {},
   "outputs": [],
   "source": [
    "def r_precision(prediction, val_set):\n",
    "# prediction should be a list of predictions\n",
    "# val_set should be pandas Series of ground truths\n",
    "    score = np.sum(val_set.isin(prediction))/val_set.shape[0]\n",
    "    return score"
   ]
  },
  {
   "cell_type": "code",
   "execution_count": 25,
   "metadata": {},
   "outputs": [
    {
     "data": {
      "text/plain": [
       "0.0"
      ]
     },
     "execution_count": 25,
     "metadata": {},
     "output_type": "execute_result"
    }
   ],
   "source": [
    "### Example Usage\n",
    "r_precision(kpreds, val_set)"
   ]
  },
  {
   "cell_type": "code",
   "execution_count": 26,
   "metadata": {},
   "outputs": [],
   "source": [
    "### NDCG Code Source: https://gist.github.com/bwhite/3726239\n",
    "def dcg_at_k(r, k, method=0):\n",
    "    r = np.asfarray(r)[:k]\n",
    "    if r.size:\n",
    "        if method == 0:\n",
    "            return r[0] + np.sum(r[1:] / np.log2(np.arange(2, r.size + 1)))\n",
    "        elif method == 1:\n",
    "            return np.sum(r / np.log2(np.arange(2, r.size + 2)))\n",
    "        else:\n",
    "            raise ValueError('method must be 0 or 1.')\n",
    "    return 0.\n",
    "\n",
    "\n",
    "def ndcg_at_k(r, k, method=0):\n",
    "    dcg_max = dcg_at_k(sorted(r, reverse=True), k, method)\n",
    "    if not dcg_max:\n",
    "        return 0.\n",
    "    return dcg_at_k(r, k, method) / dcg_max"
   ]
  },
  {
   "cell_type": "code",
   "execution_count": 28,
   "metadata": {},
   "outputs": [
    {
     "data": {
      "text/plain": [
       "0.0"
      ]
     },
     "execution_count": 28,
     "metadata": {},
     "output_type": "execute_result"
    }
   ],
   "source": [
    "### Example Usage\n",
    "# Generate binary relevance array\n",
    "r = np.zeros(len(kpreds))\n",
    "for i, p in enumerate(kpreds):\n",
    "    if p in val_set:\n",
    "        r[i] = 1\n",
    "\n",
    "ndcg_at_k(r, len(r))"
   ]
  },
  {
   "cell_type": "markdown",
   "metadata": {},
   "source": [
    "## Baseline Model Performance"
   ]
  },
  {
   "cell_type": "code",
   "execution_count": 57,
   "metadata": {
    "scrolled": true
   },
   "outputs": [],
   "source": [
    "rps = []\n",
    "ndcgs = []\n",
    "for pid in co_mat.index:\n",
    "    ps = kpredict(col_filter, pid, val) # predictions\n",
    "    vs = val[val.Playlistid == pid].Track_uri # ground truth\n",
    "    rps.append(r_precision(ps, vs))\n",
    "    \n",
    "    r = np.zeros(len(ps))\n",
    "    for i, p in enumerate(ps):\n",
    "        if np.any(vs.isin([p])):\n",
    "            r[i] = 1\n",
    "    ndcgs.append(ndcg_at_k(r, len(r)))\n",
    "    "
   ]
  },
  {
   "cell_type": "code",
   "execution_count": 58,
   "metadata": {},
   "outputs": [
    {
     "name": "stdout",
     "output_type": "stream",
     "text": [
      "Avg. R-Precision:  0.07702539127539126\n",
      "Avg. NDCG:  0.08034624710411524\n",
      "Total Sum:  0.07868581918975326\n"
     ]
    }
   ],
   "source": [
    "avg_rp = np.mean(rps)\n",
    "avg_ndcg = np.mean(ndcgs)\n",
    "print('Avg. R-Precision: ', avg_rp)\n",
    "print('Avg. NDCG: ', avg_ndcg)\n",
    "print('Total Sum: ', np.mean([avg_rp, avg_ndcg]))"
   ]
  },
  {
   "cell_type": "code",
   "execution_count": null,
   "metadata": {},
   "outputs": [],
   "source": []
  }
 ],
 "metadata": {
  "kernelspec": {
   "display_name": "Python 3",
   "language": "python",
   "name": "python3"
  },
  "language_info": {
   "codemirror_mode": {
    "name": "ipython",
    "version": 3
   },
   "file_extension": ".py",
   "mimetype": "text/x-python",
   "name": "python",
   "nbconvert_exporter": "python",
   "pygments_lexer": "ipython3",
   "version": "3.6.6"
  }
 },
 "nbformat": 4,
 "nbformat_minor": 2
}
